{
 "cells": [
  {
   "cell_type": "code",
   "execution_count": 7,
   "id": "c189bfc6",
   "metadata": {},
   "outputs": [
    {
     "name": "stdout",
     "output_type": "stream",
     "text": [
      "Collecting pymongo\n",
      "  Downloading pymongo-4.3.3-cp39-cp39-win_amd64.whl (382 kB)\n",
      "Collecting dnspython<3.0.0,>=1.16.0\n",
      "  Downloading dnspython-2.3.0-py3-none-any.whl (283 kB)\n",
      "Installing collected packages: dnspython, pymongo\n",
      "Successfully installed dnspython-2.3.0 pymongo-4.3.3\n",
      "Note: you may need to restart the kernel to use updated packages.\n",
      "Note: you may need to restart the kernel to use updated packages.\n"
     ]
    },
    {
     "name": "stderr",
     "output_type": "stream",
     "text": [
      "ERROR: Could not find a version that satisfies the requirement heapq (from versions: none)\n",
      "ERROR: No matching distribution found for heapq\n"
     ]
    }
   ],
   "source": [
    "%pip install pymongo\n",
    "%pip install heapq"
   ]
  },
  {
   "cell_type": "code",
   "execution_count": 8,
   "id": "26651576",
   "metadata": {},
   "outputs": [],
   "source": [
    "import json\n",
    "from pymongo import MongoClient\n",
    "from heapq import heapify, heappush, heappop"
   ]
  },
  {
   "cell_type": "code",
   "execution_count": 10,
   "id": "867b1c88",
   "metadata": {},
   "outputs": [],
   "source": [
    "class ProjectCache:\n",
    "    \n",
    "    def __init__(self):\n",
    "        self.cache = {}                 #Cache\n",
    "        self.minheap = []               #Minheap\n",
    "        self.cache_limit_value = 200    #The cache will be set up to only hold 200 tweets\n",
    "        \n",
    "    def __contains__(self, key):\n",
    "        \n",
    "        return key in self.cache\n",
    "    \n",
    "    def current_cache_size(self):\n",
    "        \n",
    "        return len(self.cache)\n",
    "    \n",
    "    def initial_population(self, database):\n",
    "        \n",
    "        client = MongoClient(database)\n",
    "        db = client[\"my_final_database\"]\n",
    "        collection_name = db[\"tweets\"]\n",
    "        for i in collection_name:\n",
    "            add_update(i[\"id\"], i)\n",
    "        \n",
    "    \n",
    "    def add_update(self, key, value):\n",
    "        \n",
    "        #Add a section that first checks if the current key's relevance value is greater \n",
    "        #than the least relevant term in the cache\n",
    "        if key not in self.cache:\n",
    "            if len(self.cache) >= self.cache_limit_value: #if the cache limit is met  \n",
    "                least_relevant_term()                                       #Get the least relevant in cache\n",
    "                if value[\"relevance\"] > least_relevant_value_in_cache:      #Compare current item with least relevant in cache\n",
    "                    \n",
    "                    #then remove least relevant to make room in cache\n",
    "                    self.remove_least_relevant(least_relevant_key, least_relevant_value_in_cache)          \n",
    "                \n",
    "                    minheap_sort(key, value[\"relevance\"])\n",
    "                    self.cache[key] = value                     #this part will fill in all necessary field for the json values\n",
    "        \n",
    "            else:\n",
    "                minheap_sort(key, value[\"relevance\"])\n",
    "                self.cache[key] = value \n",
    "            \n",
    "        \n",
    "        #priorityqueue(key, value)\n",
    "        #Note that if we sort in the add_update section then we just need to remove the \n",
    "        #last element in the remove_least_relevant function\n",
    "        \n",
    "    def remove_least_relevant(self, least_relevant_key, least_relevant_value_in_cache):\n",
    "        \n",
    "        #(This section could be replaced with a heapify scheme that would improve the organization of the cache. \n",
    "        #least_relavent = None\n",
    "        #for key in self.cache:\n",
    "        #    if least_relevant is None:\n",
    "        #        least_relevant = key\n",
    "        #    \n",
    "        #    elif self.cache[key][\"favorite_count\"] < self.cache[least_relevant][\"favorite_count\"]:\n",
    "        #        least_relevant = key\n",
    "        #)\n",
    "        \n",
    "        \n",
    "        #Remove least relevant from both the cache and the heaped list\n",
    "        self.cache.pop(least_relevant)\n",
    "        heappop(self.minheap, (least_relevant_value_in_cache, least_relevant))\n",
    "        heapify(self.minheap)\n",
    "        \n",
    "        \n",
    "        #Write a function that finds the least relavent value's key, then you just have to compare the added/updated key\n",
    "        #With the least relavent\n",
    "    def least_relevant_term(self):\n",
    "        \n",
    "        #This just gets the least relevant term within the cache.\n",
    "        \n",
    "        least_relevant_value_in_cache = self.minheap[0][0]\n",
    "        least_relevant_key = self.minheap[0][1]\n",
    "        return least_relevant_value_in_cache, least_relevant_key\n",
    "    \n",
    "    def minheap_sort(self, key, value):\n",
    "        #The relevance will be the new key, and the key will be the value\n",
    "        \n",
    "        heappush(self.minheap, (value, key))\n",
    "        heapify(self.minheap)\n",
    "    "
   ]
  }
 ],
 "metadata": {
  "kernelspec": {
   "display_name": "Python 3 (ipykernel)",
   "language": "python",
   "name": "python3"
  },
  "language_info": {
   "codemirror_mode": {
    "name": "ipython",
    "version": 3
   },
   "file_extension": ".py",
   "mimetype": "text/x-python",
   "name": "python",
   "nbconvert_exporter": "python",
   "pygments_lexer": "ipython3",
   "version": "3.9.12"
  }
 },
 "nbformat": 4,
 "nbformat_minor": 5
}
