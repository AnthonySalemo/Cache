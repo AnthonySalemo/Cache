{
 "cells": [
  {
   "cell_type": "code",
   "execution_count": 1,
   "id": "060ca46f",
   "metadata": {},
   "outputs": [
    {
     "ename": "SyntaxError",
     "evalue": "invalid syntax (2507838046.py, line 5)",
     "output_type": "error",
     "traceback": [
      "\u001b[1;36m  Input \u001b[1;32mIn [1]\u001b[1;36m\u001b[0m\n\u001b[1;33m    self.cache_limit_value = ###\u001b[0m\n\u001b[1;37m                             ^\u001b[0m\n\u001b[1;31mSyntaxError\u001b[0m\u001b[1;31m:\u001b[0m invalid syntax\n"
     ]
    }
   ],
   "source": [
    "class ProjectCache:\n",
    "    \n",
    "    def __init__(self):\n",
    "        self.cache = {}\n",
    "        self.cache_limit_value = ###\n",
    "        \n",
    "    def __contains__(self, key):\n",
    "        \n",
    "        return key in self.cache\n",
    "    \n",
    "    def current_cache_size(self):\n",
    "        \n",
    "        return len(self.cache)\n",
    "    \n",
    "    def add_update(self, key, value):\n",
    "        \n",
    "        if key not in self.cache and len(self.cache) >= self.cache_limit_value: #if the cache limit is met\n",
    "            self.remove_least_relavent()                                     #then remove least relavent to make room in cache\n",
    "        \n",
    "        self.cache[key] = {} #this part will fill in all necessary field for the json values\n",
    "        \n",
    "    def remove_least_relavent(self):\n",
    "        \n",
    "        least_relavent = None\n",
    "        for key in self.cache:\n",
    "            if least_relavent is None:\n",
    "                least_relavent = key\n",
    "            \n",
    "            elif self.cache[key][\"Some relavence value\"] < self.cache[least_relavent][\"Some relavence value\"]:\n",
    "                least_relavent = key\n",
    "                \n",
    "        self.cache.pop(least_relavent)\n",
    "        \n"
   ]
  },
  {
   "cell_type": "code",
   "execution_count": null,
   "id": "54a3398c",
   "metadata": {},
   "outputs": [],
   "source": []
  }
 ],
 "metadata": {
  "kernelspec": {
   "display_name": "Python 3 (ipykernel)",
   "language": "python",
   "name": "python3"
  },
  "language_info": {
   "codemirror_mode": {
    "name": "ipython",
    "version": 3
   },
   "file_extension": ".py",
   "mimetype": "text/x-python",
   "name": "python",
   "nbconvert_exporter": "python",
   "pygments_lexer": "ipython3",
   "version": "3.9.12"
  }
 },
 "nbformat": 4,
 "nbformat_minor": 5
}
